{
  "nbformat": 4,
  "nbformat_minor": 0,
  "metadata": {
    "colab": {
      "name": "Soumi_Mitra_20210300_Predicting Memorability_Assignment.ipynb",
      "provenance": [],
      "collapsed_sections": []
    },
    "kernelspec": {
      "name": "python3",
      "display_name": "Python 3"
    },
    "language_info": {
      "name": "python"
    }
  },
  "cells": [
    {
      "cell_type": "markdown",
      "metadata": {
        "id": "_NH7HA4r9MU-"
      },
      "source": [
        "<h1><b>Predicting Memorability using C3D & HMP</b></h1>"
      ]
    },
    {
      "cell_type": "code",
      "metadata": {
        "colab": {
          "base_uri": "https://localhost:8080/"
        },
        "id": "lWe-vrwMa9B5",
        "outputId": "4f41c21d-eff2-494d-9cc5-fdc9e389b6b4"
      },
      "source": [
        "from google.colab import drive\n",
        "import os\n",
        "drive.mount('/content/drive/')\n",
        "os.chdir('/content/drive/My Drive/CA684/')"
      ],
      "execution_count": null,
      "outputs": [
        {
          "output_type": "stream",
          "text": [
            "Mounted at /content/drive/\n"
          ],
          "name": "stdout"
        }
      ]
    },
    {
      "cell_type": "markdown",
      "metadata": {
        "id": "MVKYAKnCbat6"
      },
      "source": [
        "**Install and Import Libraries**"
      ]
    },
    {
      "cell_type": "code",
      "metadata": {
        "colab": {
          "base_uri": "https://localhost:8080/"
        },
        "id": "SQz_bARtbP_5",
        "outputId": "6f7a5bf0-011c-457a-9058-33ff3020bad7"
      },
      "source": [
        "!pip install pyprind"
      ],
      "execution_count": null,
      "outputs": [
        {
          "output_type": "stream",
          "text": [
            "Collecting pyprind\n",
            "  Downloading https://files.pythonhosted.org/packages/ab/b3/1f12ebc5009c65b607509393ad98240728b4401bc3593868fb161fdd3760/PyPrind-2.11.3-py2.py3-none-any.whl\n",
            "Installing collected packages: pyprind\n",
            "Successfully installed pyprind-2.11.3\n"
          ],
          "name": "stdout"
        }
      ]
    },
    {
      "cell_type": "code",
      "metadata": {
        "id": "WE44OwOMbrsI"
      },
      "source": [
        "import pandas as pd\n",
        "import keras\n",
        "from keras import Sequential, layers, regularizers, optimizers\n",
        "import numpy as np\n",
        "from string import punctuation\n",
        "import pyprind\n",
        "from collections import Counter\n",
        "from keras.preprocessing.text import Tokenizer\n",
        "from sklearn.model_selection import train_test_split\n",
        "import matplotlib.pyplot as plt\n",
        "from scipy import stats\n",
        "from natsort import natsorted,ns"
      ],
      "execution_count": null,
      "outputs": []
    },
    {
      "cell_type": "markdown",
      "metadata": {
        "id": "dC8RzToAb215"
      },
      "source": [
        "**Define Functions**"
      ]
    },
    {
      "cell_type": "code",
      "metadata": {
        "id": "ULwrWUWVb6Rc"
      },
      "source": [
        "def Get_score(Y_pred,Y_true):\n",
        "    '''Calculate the Spearmann\"s correlation coefficient'''\n",
        "    Y_pred = np.squeeze(Y_pred)\n",
        "    Y_true = np.squeeze(Y_true)\n",
        "    if Y_pred.shape != Y_true.shape:\n",
        "        print('Input shapes don\\'t match!')\n",
        "    else:\n",
        "        if len(Y_pred.shape) == 1:\n",
        "            Res = pd.DataFrame({'Y_true':Y_true,'Y_pred':Y_pred})\n",
        "            score_mat = Res[['Y_true','Y_pred']].corr(method='spearman',min_periods=1)\n",
        "            print('The Spearman\\'s correlation coefficient is: %.3f' % score_mat.iloc[1][0])\n",
        "        else:\n",
        "            for ii in range(Y_pred.shape[1]):\n",
        "                Get_score(Y_pred[:,ii],Y_true[:,ii])"
      ],
      "execution_count": null,
      "outputs": []
    },
    {
      "cell_type": "code",
      "metadata": {
        "id": "UNSkgoaXcBh1"
      },
      "source": [
        "# loading C3D\n",
        "def read_C3D(fname):\n",
        "    with open(fname) as f:\n",
        "        for line in f:\n",
        "            C3D =[float(item) for item in line.split()] \n",
        "    return C3D\n",
        "  \n",
        "# loading HMP\n",
        "def read_HMP(fname):\n",
        "    \"\"\"Scan HMP(Histogram of Motion Patterns) features from file\"\"\"\n",
        "    with open(fname) as f:\n",
        "        for line in f:\n",
        "            pairs=line.split()\n",
        "            HMP_temp = { int(p.split(':')[0]) : float(p.split(':')[1]) for p in pairs}\n",
        "    # there are 6075 bins, fill zeros\n",
        "    HMP = np.zeros(6075)\n",
        "    for idx in HMP_temp.keys():\n",
        "        HMP[idx-1] = HMP_temp[idx]            \n",
        "    return HMP"
      ],
      "execution_count": null,
      "outputs": []
    },
    {
      "cell_type": "markdown",
      "metadata": {
        "id": "QsjuoQq7cLVr"
      },
      "source": [
        "**Loading Features**"
      ]
    },
    {
      "cell_type": "code",
      "metadata": {
        "id": "4d5Sxc3PcOqO"
      },
      "source": [
        "# load the ground truth values\n",
        "label_path = '/content/drive/My Drive/CA684/CA684_Assignment/Dev-set/Ground-truth/ground-truth.csv'\n",
        "labels=pd.read_csv(label_path)\n",
        "\n",
        "# Path for the features\n",
        "Feat_path = '/content/drive/My Drive/CA684/CA684_Assignment/Dev-set/'\n",
        "\n",
        "#getting video names using features' name\n",
        "def getnames(featurename):\n",
        "  vnames = os.listdir(Feat_path+featurename)\n",
        "  return vnames\n",
        "\n",
        "#get full path of the features using features' name \n",
        "def getpaths(featurename):\n",
        "  fpath = [Feat_path+featurename+'/' + x for x in  getnames(featurename)]\n",
        "  sorted = natsorted(fpath,alg=ns.IGNORECASE)\n",
        "  print('Feature Path:')\n",
        "  print(sorted[:5])\n",
        "  return sorted"
      ],
      "execution_count": null,
      "outputs": []
    },
    {
      "cell_type": "code",
      "metadata": {
        "id": "pGQZwd7_ccvO"
      },
      "source": [
        "#load C3D and return as an array of list\n",
        "def df_C3D():\n",
        "  path = getpaths('C3D')\n",
        "  c3d = []\n",
        "  print('Loading C3D')\n",
        "  for item in path:\n",
        "    c3d.append(read_C3D(item))\n",
        "  print('done')\n",
        "  return np.asarray(c3d)\n",
        "\n",
        "#load HMP and return as an array of list\n",
        "def df_HMP():\n",
        "  path = getpaths('HMP')\n",
        "  hmp = []\n",
        "  print('Loading HMP')\n",
        "  for item in path:\n",
        "    hmp.append(read_HMP(item))\n",
        "  print('done')\n",
        "  return np.asarray(hmp)"
      ],
      "execution_count": null,
      "outputs": []
    },
    {
      "cell_type": "code",
      "metadata": {
        "colab": {
          "base_uri": "https://localhost:8080/"
        },
        "id": "v3MSeJdCcvhu",
        "outputId": "eac21309-477a-485d-a814-bc78d1a38518"
      },
      "source": [
        "#loading C3D\n",
        "feature1 = df_C3D()"
      ],
      "execution_count": null,
      "outputs": [
        {
          "output_type": "stream",
          "text": [
            "Feature Path:\n",
            "['/content/drive/My Drive/CA684/CA684_Assignment/Dev-set/C3D/video3.txt', '/content/drive/My Drive/CA684/CA684_Assignment/Dev-set/C3D/video4.txt', '/content/drive/My Drive/CA684/CA684_Assignment/Dev-set/C3D/video6.txt', '/content/drive/My Drive/CA684/CA684_Assignment/Dev-set/C3D/video8.txt', '/content/drive/My Drive/CA684/CA684_Assignment/Dev-set/C3D/video10.txt']\n",
            "Loading C3D\n",
            "done\n"
          ],
          "name": "stdout"
        }
      ]
    },
    {
      "cell_type": "code",
      "metadata": {
        "colab": {
          "base_uri": "https://localhost:8080/"
        },
        "id": "JjGiDqDVqMDa",
        "outputId": "6031fc2a-4c68-4f27-8b62-3871f17f03a7"
      },
      "source": [
        "#loading HMP\n",
        "feature2 = df_HMP()"
      ],
      "execution_count": null,
      "outputs": [
        {
          "output_type": "stream",
          "text": [
            "Feature Path:\n",
            "['/content/drive/My Drive/CA684/CA684_Assignment/Dev-set/HMP/video3.txt', '/content/drive/My Drive/CA684/CA684_Assignment/Dev-set/HMP/video4.txt', '/content/drive/My Drive/CA684/CA684_Assignment/Dev-set/HMP/video6.txt', '/content/drive/My Drive/CA684/CA684_Assignment/Dev-set/HMP/video8.txt', '/content/drive/My Drive/CA684/CA684_Assignment/Dev-set/HMP/video10.txt']\n",
            "Loading HMP\n",
            "done\n"
          ],
          "name": "stdout"
        }
      ]
    },
    {
      "cell_type": "markdown",
      "metadata": {
        "id": "BKeeP34wMe5w"
      },
      "source": [
        "**Model Building**"
      ]
    },
    {
      "cell_type": "markdown",
      "metadata": {
        "id": "XCXFWCY-4ihY"
      },
      "source": [
        "**Using C3D Feature**"
      ]
    },
    {
      "cell_type": "code",
      "metadata": {
        "id": "ShE1YDpN4hBK"
      },
      "source": [
        "#Short term and long term memorability score \n",
        "Y_NN = labels[['short-term_memorability','long-term_memorability']].values\n",
        "X_NN = feature1"
      ],
      "execution_count": null,
      "outputs": []
    },
    {
      "cell_type": "code",
      "metadata": {
        "id": "aNzPhf1_kSsj"
      },
      "source": [
        "#Splitting dataset into test and train set with 80:20 ratio\n",
        "X_train, X_test, Y_train, Y_test = train_test_split(X_NN,Y_NN, test_size=0.20, random_state=42)"
      ],
      "execution_count": null,
      "outputs": []
    },
    {
      "cell_type": "code",
      "metadata": {
        "colab": {
          "base_uri": "https://localhost:8080/"
        },
        "id": "B2pXPXeTDxBP",
        "outputId": "7f6d01de-5cc9-475e-f431-2b6b1847d6eb"
      },
      "source": [
        "# adding dropout and regularizers\n",
        "model = Sequential()\n",
        "model.add(layers.Dense(30,activation='selu',kernel_regularizer=regularizers.l2(0.00001)))\n",
        "model.add(layers.Dropout(0.3))\n",
        "model.add(layers.Dense(25,activation='selu',kernel_regularizer=regularizers.l2(0.00001)))\n",
        "model.add(layers.Dropout(0.7))\n",
        "model.add(layers.Dense(2,activation='selu'))\n",
        "\n",
        "# compiling the model \n",
        "opt = optimizers.RMSprop(lr=0.0009, rho=0.89, decay=0.0)\n",
        "model.compile(optimizer=opt,loss='mse',metrics=['accuracy'])\n",
        "\n",
        "history = model.fit(X_train,Y_train,epochs=22,validation_data=(X_test,Y_test))"
      ],
      "execution_count": null,
      "outputs": [
        {
          "output_type": "stream",
          "text": [
            "Epoch 1/22\n",
            "150/150 [==============================] - 1s 3ms/step - loss: 0.5506 - accuracy: 0.4918 - val_loss: 0.0382 - val_accuracy: 0.5308\n",
            "Epoch 2/22\n",
            "150/150 [==============================] - 0s 2ms/step - loss: 0.1492 - accuracy: 0.5060 - val_loss: 0.0222 - val_accuracy: 0.7042\n",
            "Epoch 3/22\n",
            "150/150 [==============================] - 0s 2ms/step - loss: 0.0778 - accuracy: 0.5301 - val_loss: 0.0168 - val_accuracy: 0.7100\n",
            "Epoch 4/22\n",
            "150/150 [==============================] - 0s 2ms/step - loss: 0.0472 - accuracy: 0.5977 - val_loss: 0.0152 - val_accuracy: 0.7100\n",
            "Epoch 5/22\n",
            "150/150 [==============================] - 0s 2ms/step - loss: 0.0297 - accuracy: 0.6571 - val_loss: 0.0145 - val_accuracy: 0.7100\n",
            "Epoch 6/22\n",
            "150/150 [==============================] - 0s 2ms/step - loss: 0.0220 - accuracy: 0.6951 - val_loss: 0.0144 - val_accuracy: 0.7100\n",
            "Epoch 7/22\n",
            "150/150 [==============================] - 0s 2ms/step - loss: 0.0181 - accuracy: 0.7105 - val_loss: 0.0141 - val_accuracy: 0.7100\n",
            "Epoch 8/22\n",
            "150/150 [==============================] - 0s 2ms/step - loss: 0.0155 - accuracy: 0.7111 - val_loss: 0.0140 - val_accuracy: 0.7100\n",
            "Epoch 9/22\n",
            "150/150 [==============================] - 0s 2ms/step - loss: 0.0147 - accuracy: 0.7074 - val_loss: 0.0139 - val_accuracy: 0.7100\n",
            "Epoch 10/22\n",
            "150/150 [==============================] - 0s 2ms/step - loss: 0.0139 - accuracy: 0.7103 - val_loss: 0.0139 - val_accuracy: 0.7100\n",
            "Epoch 11/22\n",
            "150/150 [==============================] - 0s 2ms/step - loss: 0.0138 - accuracy: 0.7141 - val_loss: 0.0138 - val_accuracy: 0.7100\n",
            "Epoch 12/22\n",
            "150/150 [==============================] - 0s 2ms/step - loss: 0.0135 - accuracy: 0.7031 - val_loss: 0.0138 - val_accuracy: 0.7100\n",
            "Epoch 13/22\n",
            "150/150 [==============================] - 0s 2ms/step - loss: 0.0135 - accuracy: 0.6995 - val_loss: 0.0138 - val_accuracy: 0.7100\n",
            "Epoch 14/22\n",
            "150/150 [==============================] - 0s 2ms/step - loss: 0.0132 - accuracy: 0.6919 - val_loss: 0.0138 - val_accuracy: 0.7100\n",
            "Epoch 15/22\n",
            "150/150 [==============================] - 0s 2ms/step - loss: 0.0133 - accuracy: 0.7006 - val_loss: 0.0137 - val_accuracy: 0.7100\n",
            "Epoch 16/22\n",
            "150/150 [==============================] - 0s 2ms/step - loss: 0.0135 - accuracy: 0.7006 - val_loss: 0.0137 - val_accuracy: 0.7100\n",
            "Epoch 17/22\n",
            "150/150 [==============================] - 0s 2ms/step - loss: 0.0136 - accuracy: 0.7002 - val_loss: 0.0137 - val_accuracy: 0.7100\n",
            "Epoch 18/22\n",
            "150/150 [==============================] - 0s 2ms/step - loss: 0.0133 - accuracy: 0.7054 - val_loss: 0.0137 - val_accuracy: 0.7100\n",
            "Epoch 19/22\n",
            "150/150 [==============================] - 0s 2ms/step - loss: 0.0130 - accuracy: 0.7028 - val_loss: 0.0137 - val_accuracy: 0.7100\n",
            "Epoch 20/22\n",
            "150/150 [==============================] - 0s 2ms/step - loss: 0.0134 - accuracy: 0.7063 - val_loss: 0.0137 - val_accuracy: 0.7100\n",
            "Epoch 21/22\n",
            "150/150 [==============================] - 0s 2ms/step - loss: 0.0132 - accuracy: 0.6987 - val_loss: 0.0136 - val_accuracy: 0.7100\n",
            "Epoch 22/22\n",
            "150/150 [==============================] - 0s 2ms/step - loss: 0.0130 - accuracy: 0.6985 - val_loss: 0.0137 - val_accuracy: 0.7100\n"
          ],
          "name": "stdout"
        }
      ]
    },
    {
      "cell_type": "code",
      "metadata": {
        "colab": {
          "base_uri": "https://localhost:8080/",
          "height": 573
        },
        "id": "CpGyK2-zD4nJ",
        "outputId": "cb13877f-6e94-4ae9-d59b-1f5dcef46e19"
      },
      "source": [
        "# visualizing the model\n",
        "loss = history.history['loss']\n",
        "#val_loss = history.history['val_loss']\n",
        "\n",
        "epochs = range(1,len(loss)+1)\n",
        "\n",
        "plt.plot(epochs,loss,'bo',label='Training loss')\n",
        "#plt.plot(epochs,val_loss,'b',label='Validation loss')\n",
        "plt.title('Training and validation loss')\n",
        "plt.xlabel('Epochs')\n",
        "plt.ylabel('Loss')\n",
        "plt.legend()\n",
        "plt.show()\n",
        "\n",
        "plt.figure()\n",
        "acc = history.history['accuracy']\n",
        "#val_acc = history.history['val_acc']\n",
        "plt.plot(epochs, acc, 'bo', label='Training acc')\n",
        "#plt.plot(epochs, val_acc, 'b', label='Validation acc')\n",
        "plt.title('Training and validation accuracy')\n",
        "plt.xlabel('Epochs')\n",
        "plt.ylabel('Acc')\n",
        "plt.legend()\n",
        "plt.show()"
      ],
      "execution_count": null,
      "outputs": [
        {
          "output_type": "display_data",
          "data": {
            "image/png": "[encoded data removed]",
            "text/plain": [
              "<Figure size 432x288 with 1 Axes>"
            ]
          },
          "metadata": {
            "tags": [],
            "needs_background": "light"
          }
        },
        {
          "output_type": "display_data",
          "data": {
            "image/png": "[encoded data removed]",
            "text/plain": [
              "<Figure size 432x288 with 1 Axes>"
            ]
          },
          "metadata": {
            "tags": [],
            "needs_background": "light"
          }
        }
      ]
    },
    {
      "cell_type": "code",
      "metadata": {
        "colab": {
          "base_uri": "https://localhost:8080/"
        },
        "id": "I2oglDlpD_DF",
        "outputId": "f04f4a05-aef5-4101-c7a0-07fb6ab7cf2b"
      },
      "source": [
        "predictionsNN = model.predict(X_test)\n",
        "print(predictionsNN.shape)\n"
      ],
      "execution_count": null,
      "outputs": [
        {
          "output_type": "stream",
          "text": [
            "(1200, 2)\n"
          ],
          "name": "stdout"
        }
      ]
    },
    {
      "cell_type": "code",
      "metadata": {
        "colab": {
          "base_uri": "https://localhost:8080/"
        },
        "id": "STeqTOmHED6w",
        "outputId": "11bc2d89-4122-4f5a-a8c1-6133df0f14cf"
      },
      "source": [
        "Get_score(predictionsNN, Y_test)"
      ],
      "execution_count": null,
      "outputs": [
        {
          "output_type": "stream",
          "text": [
            "The Spearman's correlation coefficient is: 0.278\n",
            "The Spearman's correlation coefficient is: 0.128\n"
          ],
          "name": "stdout"
        }
      ]
    },
    {
      "cell_type": "markdown",
      "metadata": {
        "id": "YUI3TUQHEKlb"
      },
      "source": [
        "**Using HMP Feature**"
      ]
    },
    {
      "cell_type": "code",
      "metadata": {
        "id": "Ox6u_wGYENPS"
      },
      "source": [
        "#Short term and long term memorability score \n",
        "Y_NN = labels[['short-term_memorability','long-term_memorability']].values\n",
        "X_NN = feature2"
      ],
      "execution_count": null,
      "outputs": []
    },
    {
      "cell_type": "code",
      "metadata": {
        "id": "l4iSDTcJSsgt"
      },
      "source": [
        "#Splitting dataset into test and train set with 80:20 ratio\n",
        "X_train, X_test, Y_train, Y_test = train_test_split(X_NN,Y_NN, test_size=0.20, random_state=42)"
      ],
      "execution_count": null,
      "outputs": []
    },
    {
      "cell_type": "code",
      "metadata": {
        "colab": {
          "base_uri": "https://localhost:8080/"
        },
        "id": "_EjrF7sqEW2u",
        "outputId": "56f90b8a-6400-45c5-d2cf-6a5730555925"
      },
      "source": [
        "# adding dropout and regularizers\n",
        "model = Sequential()\n",
        "model.add(layers.Dense(30,activation='selu',kernel_regularizer=regularizers.l2(0.00001)))\n",
        "model.add(layers.Dropout(0.3))\n",
        "model.add(layers.Dense(25,activation='selu',kernel_regularizer=regularizers.l2(0.00001)))\n",
        "model.add(layers.Dropout(0.7))\n",
        "model.add(layers.Dense(2,activation='selu'))\n",
        "\n",
        "# compiling the model \n",
        "opt = optimizers.RMSprop(lr=0.0009, rho=0.89, decay=0.0)\n",
        "model.compile(optimizer=opt,loss='mse',metrics=['accuracy'])\n",
        "\n",
        "history = model.fit(X_train,Y_train,epochs=22,validation_data=(X_test,Y_test))"
      ],
      "execution_count": null,
      "outputs": [
        {
          "output_type": "stream",
          "text": [
            "Epoch 1/22\n",
            "150/150 [==============================] - 2s 8ms/step - loss: 0.2297 - accuracy: 0.5661 - val_loss: 0.0240 - val_accuracy: 0.7100\n",
            "Epoch 2/22\n",
            "150/150 [==============================] - 1s 6ms/step - loss: 0.0809 - accuracy: 0.5576 - val_loss: 0.0218 - val_accuracy: 0.7100\n",
            "Epoch 3/22\n",
            "150/150 [==============================] - 1s 6ms/step - loss: 0.0500 - accuracy: 0.5869 - val_loss: 0.0181 - val_accuracy: 0.7100\n",
            "Epoch 4/22\n",
            "150/150 [==============================] - 1s 6ms/step - loss: 0.0346 - accuracy: 0.6379 - val_loss: 0.0144 - val_accuracy: 0.7100\n",
            "Epoch 5/22\n",
            "150/150 [==============================] - 1s 6ms/step - loss: 0.0256 - accuracy: 0.6789 - val_loss: 0.0145 - val_accuracy: 0.7100\n",
            "Epoch 6/22\n",
            "150/150 [==============================] - 1s 6ms/step - loss: 0.0206 - accuracy: 0.7087 - val_loss: 0.0143 - val_accuracy: 0.7100\n",
            "Epoch 7/22\n",
            "150/150 [==============================] - 1s 6ms/step - loss: 0.0173 - accuracy: 0.6952 - val_loss: 0.0140 - val_accuracy: 0.7100\n",
            "Epoch 8/22\n",
            "150/150 [==============================] - 1s 6ms/step - loss: 0.0160 - accuracy: 0.7127 - val_loss: 0.0140 - val_accuracy: 0.7100\n",
            "Epoch 9/22\n",
            "150/150 [==============================] - 1s 6ms/step - loss: 0.0146 - accuracy: 0.7028 - val_loss: 0.0140 - val_accuracy: 0.7100\n",
            "Epoch 10/22\n",
            "150/150 [==============================] - 1s 6ms/step - loss: 0.0140 - accuracy: 0.6951 - val_loss: 0.0139 - val_accuracy: 0.7100\n",
            "Epoch 11/22\n",
            "150/150 [==============================] - 1s 6ms/step - loss: 0.0139 - accuracy: 0.7095 - val_loss: 0.0139 - val_accuracy: 0.7100\n",
            "Epoch 12/22\n",
            "150/150 [==============================] - 1s 6ms/step - loss: 0.0137 - accuracy: 0.6972 - val_loss: 0.0139 - val_accuracy: 0.7100\n",
            "Epoch 13/22\n",
            "150/150 [==============================] - 1s 6ms/step - loss: 0.0137 - accuracy: 0.7103 - val_loss: 0.0139 - val_accuracy: 0.7100\n",
            "Epoch 14/22\n",
            "150/150 [==============================] - 1s 6ms/step - loss: 0.0139 - accuracy: 0.6954 - val_loss: 0.0139 - val_accuracy: 0.7100\n",
            "Epoch 15/22\n",
            "150/150 [==============================] - 1s 6ms/step - loss: 0.0135 - accuracy: 0.7076 - val_loss: 0.0138 - val_accuracy: 0.7100\n",
            "Epoch 16/22\n",
            "150/150 [==============================] - 1s 6ms/step - loss: 0.0135 - accuracy: 0.7064 - val_loss: 0.0138 - val_accuracy: 0.7100\n",
            "Epoch 17/22\n",
            "150/150 [==============================] - 1s 6ms/step - loss: 0.0135 - accuracy: 0.7007 - val_loss: 0.0140 - val_accuracy: 0.7100\n",
            "Epoch 18/22\n",
            "150/150 [==============================] - 1s 6ms/step - loss: 0.0137 - accuracy: 0.7002 - val_loss: 0.0138 - val_accuracy: 0.7100\n",
            "Epoch 19/22\n",
            "150/150 [==============================] - 1s 6ms/step - loss: 0.0136 - accuracy: 0.7027 - val_loss: 0.0138 - val_accuracy: 0.7100\n",
            "Epoch 20/22\n",
            "150/150 [==============================] - 1s 6ms/step - loss: 0.0132 - accuracy: 0.7044 - val_loss: 0.0139 - val_accuracy: 0.7100\n",
            "Epoch 21/22\n",
            "150/150 [==============================] - 1s 6ms/step - loss: 0.0136 - accuracy: 0.7066 - val_loss: 0.0142 - val_accuracy: 0.7100\n",
            "Epoch 22/22\n",
            "150/150 [==============================] - 1s 6ms/step - loss: 0.0137 - accuracy: 0.6901 - val_loss: 0.0139 - val_accuracy: 0.7100\n"
          ],
          "name": "stdout"
        }
      ]
    },
    {
      "cell_type": "code",
      "metadata": {
        "colab": {
          "base_uri": "https://localhost:8080/",
          "height": 573
        },
        "id": "FR0N1GrdEhVX",
        "outputId": "17d822e4-e02d-4596-908f-2e79e3976102"
      },
      "source": [
        "# visualizing the model\n",
        "loss = history.history['loss']\n",
        "#val_loss = history.history['val_loss']\n",
        "\n",
        "epochs = range(1,len(loss)+1)\n",
        "\n",
        "plt.plot(epochs,loss,'bo',label='Training loss')\n",
        "#plt.plot(epochs,val_loss,'b',label='Validation loss')\n",
        "plt.title('Training and validation loss')\n",
        "plt.xlabel('Epochs')\n",
        "plt.ylabel('Loss')\n",
        "plt.legend()\n",
        "plt.show()\n",
        "\n",
        "plt.figure()\n",
        "acc = history.history['accuracy']\n",
        "#val_acc = history.history['val_acc']\n",
        "plt.plot(epochs, acc, 'bo', label='Training acc')\n",
        "#plt.plot(epochs, val_acc, 'b', label='Validation acc')\n",
        "plt.title('Training and validation accuracy')\n",
        "plt.xlabel('Epochs')\n",
        "plt.ylabel('Acc')\n",
        "plt.legend()\n",
        "plt.show()"
      ],
      "execution_count": null,
      "outputs": [
        {
          "output_type": "display_data",
          "data": {
            "image/png": "[encoded data removed]",
            "text/plain": [
              "<Figure size 432x288 with 1 Axes>"
            ]
          },
          "metadata": {
            "tags": [],
            "needs_background": "light"
          }
        },
        {
          "output_type": "display_data",
          "data": {
            "image/png": "[encoded data removed]",
            "text/plain": [
              "<Figure size 432x288 with 1 Axes>"
            ]
          },
          "metadata": {
            "tags": [],
            "needs_background": "light"
          }
        }
      ]
    },
    {
      "cell_type": "code",
      "metadata": {
        "colab": {
          "base_uri": "https://localhost:8080/"
        },
        "id": "Lpev4X-uEu8V",
        "outputId": "386b2ea8-c0e0-4c0e-c105-b514fe3d5d7a"
      },
      "source": [
        "predictionsNN = model.predict(X_test)\n",
        "print(predictionsNN.shape)"
      ],
      "execution_count": null,
      "outputs": [
        {
          "output_type": "stream",
          "text": [
            "(1200, 2)\n"
          ],
          "name": "stdout"
        }
      ]
    },
    {
      "cell_type": "code",
      "metadata": {
        "colab": {
          "base_uri": "https://localhost:8080/"
        },
        "id": "Txe0XQvVEwSS",
        "outputId": "1f9d443f-5dcb-4520-8e54-00aebc03cb49"
      },
      "source": [
        "Get_score(predictionsNN, Y_test)"
      ],
      "execution_count": null,
      "outputs": [
        {
          "output_type": "stream",
          "text": [
            "The Spearman's correlation coefficient is: 0.267\n",
            "The Spearman's correlation coefficient is: 0.120\n"
          ],
          "name": "stdout"
        }
      ]
    },
    {
      "cell_type": "markdown",
      "metadata": {
        "id": "QWip5fYsE5nR"
      },
      "source": [
        "**Merge C3D and HMP**"
      ]
    },
    {
      "cell_type": "code",
      "metadata": {
        "id": "9D5XT7aUE8vi"
      },
      "source": [
        "#Short term and long term memorability score \n",
        "Y_NN = labels[['short-term_memorability','long-term_memorability']].values\n",
        "X_NN = np.concatenate((feature1,feature2), axis=1)"
      ],
      "execution_count": null,
      "outputs": []
    },
    {
      "cell_type": "code",
      "metadata": {
        "id": "pGN58qFfkXOd"
      },
      "source": [
        "#Splitting dataset into test and train set with 80:20 ratio\n",
        "X_train, X_test, Y_train, Y_test = train_test_split(X_NN,Y_NN, test_size=0.20, random_state=42)"
      ],
      "execution_count": null,
      "outputs": []
    },
    {
      "cell_type": "code",
      "metadata": {
        "colab": {
          "base_uri": "https://localhost:8080/"
        },
        "id": "UIJ3SUwTFGX4",
        "outputId": "8e29926d-66c8-4a55-852c-ec65e92bf945"
      },
      "source": [
        "# adding dropout and regularizers\n",
        "model = Sequential()\n",
        "model.add(layers.Dense(30,activation='selu',kernel_regularizer=regularizers.l2(0.00001)))\n",
        "model.add(layers.Dropout(0.3))\n",
        "model.add(layers.Dense(25,activation='selu',kernel_regularizer=regularizers.l2(0.00001)))\n",
        "model.add(layers.Dropout(0.7))\n",
        "model.add(layers.Dense(2,activation='selu'))\n",
        "\n",
        "# compiling the model \n",
        "opt = optimizers.RMSprop(lr=0.0009, rho=0.89, decay=0.0)\n",
        "model.compile(optimizer=opt,loss='mse',metrics=['accuracy'])\n",
        "\n",
        "history = model.fit(X_train,Y_train,epochs=22,validation_data=(X_test,Y_test))"
      ],
      "execution_count": null,
      "outputs": [
        {
          "output_type": "stream",
          "text": [
            "Epoch 1/22\n",
            "150/150 [==============================] - 2s 7ms/step - loss: 0.2230 - accuracy: 0.5436 - val_loss: 0.0211 - val_accuracy: 0.7100\n",
            "Epoch 2/22\n",
            "150/150 [==============================] - 1s 6ms/step - loss: 0.0705 - accuracy: 0.5619 - val_loss: 0.0176 - val_accuracy: 0.7100\n",
            "Epoch 3/22\n",
            "150/150 [==============================] - 1s 6ms/step - loss: 0.0499 - accuracy: 0.6129 - val_loss: 0.0151 - val_accuracy: 0.7100\n",
            "Epoch 4/22\n",
            "150/150 [==============================] - 1s 6ms/step - loss: 0.0363 - accuracy: 0.6713 - val_loss: 0.0145 - val_accuracy: 0.7100\n",
            "Epoch 5/22\n",
            "150/150 [==============================] - 1s 6ms/step - loss: 0.0269 - accuracy: 0.7008 - val_loss: 0.0141 - val_accuracy: 0.7100\n",
            "Epoch 6/22\n",
            "150/150 [==============================] - 1s 6ms/step - loss: 0.0209 - accuracy: 0.7010 - val_loss: 0.0142 - val_accuracy: 0.7100\n",
            "Epoch 7/22\n",
            "150/150 [==============================] - 1s 6ms/step - loss: 0.0173 - accuracy: 0.7051 - val_loss: 0.0138 - val_accuracy: 0.7100\n",
            "Epoch 8/22\n",
            "150/150 [==============================] - 1s 6ms/step - loss: 0.0156 - accuracy: 0.7141 - val_loss: 0.0138 - val_accuracy: 0.7100\n",
            "Epoch 9/22\n",
            "150/150 [==============================] - 1s 6ms/step - loss: 0.0146 - accuracy: 0.6998 - val_loss: 0.0137 - val_accuracy: 0.7100\n",
            "Epoch 10/22\n",
            "150/150 [==============================] - 1s 6ms/step - loss: 0.0137 - accuracy: 0.6948 - val_loss: 0.0137 - val_accuracy: 0.7100\n",
            "Epoch 11/22\n",
            "150/150 [==============================] - 1s 6ms/step - loss: 0.0142 - accuracy: 0.7096 - val_loss: 0.0137 - val_accuracy: 0.7100\n",
            "Epoch 12/22\n",
            "150/150 [==============================] - 1s 6ms/step - loss: 0.0136 - accuracy: 0.7057 - val_loss: 0.0137 - val_accuracy: 0.7100\n",
            "Epoch 13/22\n",
            "150/150 [==============================] - 1s 6ms/step - loss: 0.0133 - accuracy: 0.7013 - val_loss: 0.0137 - val_accuracy: 0.7100\n",
            "Epoch 14/22\n",
            "150/150 [==============================] - 1s 6ms/step - loss: 0.0136 - accuracy: 0.7096 - val_loss: 0.0137 - val_accuracy: 0.7100\n",
            "Epoch 15/22\n",
            "150/150 [==============================] - 1s 6ms/step - loss: 0.0133 - accuracy: 0.6956 - val_loss: 0.0136 - val_accuracy: 0.7100\n",
            "Epoch 16/22\n",
            "150/150 [==============================] - 1s 6ms/step - loss: 0.0132 - accuracy: 0.6938 - val_loss: 0.0136 - val_accuracy: 0.7100\n",
            "Epoch 17/22\n",
            "150/150 [==============================] - 1s 6ms/step - loss: 0.0133 - accuracy: 0.7056 - val_loss: 0.0136 - val_accuracy: 0.7100\n",
            "Epoch 18/22\n",
            "150/150 [==============================] - 1s 6ms/step - loss: 0.0130 - accuracy: 0.7009 - val_loss: 0.0136 - val_accuracy: 0.7100\n",
            "Epoch 19/22\n",
            "150/150 [==============================] - 1s 6ms/step - loss: 0.0131 - accuracy: 0.7064 - val_loss: 0.0136 - val_accuracy: 0.7100\n",
            "Epoch 20/22\n",
            "150/150 [==============================] - 1s 6ms/step - loss: 0.0133 - accuracy: 0.6966 - val_loss: 0.0136 - val_accuracy: 0.7100\n",
            "Epoch 21/22\n",
            "150/150 [==============================] - 1s 6ms/step - loss: 0.0133 - accuracy: 0.7148 - val_loss: 0.0138 - val_accuracy: 0.7100\n",
            "Epoch 22/22\n",
            "150/150 [==============================] - 1s 6ms/step - loss: 0.0133 - accuracy: 0.7026 - val_loss: 0.0136 - val_accuracy: 0.7100\n"
          ],
          "name": "stdout"
        }
      ]
    },
    {
      "cell_type": "code",
      "metadata": {
        "colab": {
          "base_uri": "https://localhost:8080/",
          "height": 573
        },
        "id": "YpmaAxXtFSWR",
        "outputId": "5164d1d4-2875-40c9-9420-a05c6b18fcc7"
      },
      "source": [
        "# visualizing the model\n",
        "loss = history.history['loss']\n",
        "#val_loss = history.history['val_loss']\n",
        "\n",
        "epochs = range(1,len(loss)+1)\n",
        "\n",
        "plt.plot(epochs,loss,'bo',label='Training loss')\n",
        "#plt.plot(epochs,val_loss,'b',label='Validation loss')\n",
        "plt.title('Training and validation loss')\n",
        "plt.xlabel('Epochs')\n",
        "plt.ylabel('Loss')\n",
        "plt.legend()\n",
        "plt.show()\n",
        "\n",
        "plt.figure()\n",
        "acc = history.history['accuracy']\n",
        "#val_acc = history.history['val_acc']\n",
        "plt.plot(epochs, acc, 'bo', label='Training acc')\n",
        "#plt.plot(epochs, val_acc, 'b', label='Validation acc')\n",
        "plt.title('Training and validation accuracy')\n",
        "plt.xlabel('Epochs')\n",
        "plt.ylabel('Acc')\n",
        "plt.legend()\n",
        "plt.show()"
      ],
      "execution_count": null,
      "outputs": [
        {
          "output_type": "display_data",
          "data": {
            "image/png": "[encoded data removed]",
            "text/plain": [
              "<Figure size 432x288 with 1 Axes>"
            ]
          },
          "metadata": {
            "tags": [],
            "needs_background": "light"
          }
        },
        {
          "output_type": "display_data",
          "data": {
            "image/png": "[encoded data removed]",
            "text/plain": [
              "<Figure size 432x288 with 1 Axes>"
            ]
          },
          "metadata": {
            "tags": [],
            "needs_background": "light"
          }
        }
      ]
    },
    {
      "cell_type": "code",
      "metadata": {
        "colab": {
          "base_uri": "https://localhost:8080/"
        },
        "id": "Iesvg-nwFYiR",
        "outputId": "212947e6-380b-465c-88b4-ce97a7bc3b06"
      },
      "source": [
        "predictionsNN = model.predict(X_test)\n",
        "print(predictionsNN.shape)"
      ],
      "execution_count": null,
      "outputs": [
        {
          "output_type": "stream",
          "text": [
            "(1200, 2)\n"
          ],
          "name": "stdout"
        }
      ]
    },
    {
      "cell_type": "code",
      "metadata": {
        "colab": {
          "base_uri": "https://localhost:8080/"
        },
        "id": "uynBZVYRFcZs",
        "outputId": "fa9b897b-74d2-4d5a-80bb-7a523d5d9177"
      },
      "source": [
        "Get_score(predictionsNN, Y_test)"
      ],
      "execution_count": null,
      "outputs": [
        {
          "output_type": "stream",
          "text": [
            "The Spearman's correlation coefficient is: 0.292\n",
            "The Spearman's correlation coefficient is: 0.146\n"
          ],
          "name": "stdout"
        }
      ]
    },
    {
      "cell_type": "markdown",
      "metadata": {
        "id": "Qfc7kNGH8QMQ"
      },
      "source": [
        "<h2><b>If we compare the three models, then we can find that we are getting better scores after merging C3D and HMP features.</b></h2>"
      ]
    },
    {
      "cell_type": "markdown",
      "metadata": {
        "id": "PgH4nltDmK9M"
      },
      "source": [
        "**Load the test set**"
      ]
    },
    {
      "cell_type": "code",
      "metadata": {
        "id": "qSKOjeWimYKf"
      },
      "source": [
        "label_path = '/content/drive/My Drive/CA684/CA684_Assignment/Test-set/Ground-truth_test/ground_truth_template.csv'\n",
        "labels_test=pd.read_csv(label_path)\n",
        "\n",
        "#Overwriting the Feat_Path to test dataset location\n",
        "Feat_path = '/content/drive/My Drive/CA684/CA684_Assignment/Test-set/'"
      ],
      "execution_count": null,
      "outputs": []
    },
    {
      "cell_type": "code",
      "metadata": {
        "id": "IxkC-cVim4qq"
      },
      "source": [
        "#Overwriting the functions for getting dataset name and full path since directory is named feature_test\n",
        "def getnames(featurename):\n",
        "  vnames = os.listdir(Feat_path+featurename+'_test')\n",
        "  return vnames\n",
        "\n",
        "def getpaths(featurename):\n",
        "  fpath = [Feat_path+featurename+'_test/' + x for x in  getnames(featurename)]\n",
        "  sorted = natsorted(fpath,alg=ns.IGNORECASE)\n",
        "  print('Feature Path:')\n",
        "  print(sorted[:5])\n",
        "  return sorted"
      ],
      "execution_count": null,
      "outputs": []
    },
    {
      "cell_type": "code",
      "metadata": {
        "colab": {
          "base_uri": "https://localhost:8080/"
        },
        "id": "ar40XlBJm-vO",
        "outputId": "b50ecf53-ec47-4a8e-b158-02980425f465"
      },
      "source": [
        "#Loading 2000 test set of C3D\n",
        "f1_test = df_C3D()\n",
        "\n",
        "#Loading 2000 test set of HMP\n",
        "f2_test = df_HMP()"
      ],
      "execution_count": null,
      "outputs": [
        {
          "output_type": "stream",
          "text": [
            "Feature Path:\n",
            "['/content/drive/My Drive/CA684/CA684_Assignment/Test-set/C3D_test/video7494.txt', '/content/drive/My Drive/CA684/CA684_Assignment/Test-set/C3D_test/video7495.txt', '/content/drive/My Drive/CA684/CA684_Assignment/Test-set/C3D_test/video7496.txt', '/content/drive/My Drive/CA684/CA684_Assignment/Test-set/C3D_test/video7497.txt', '/content/drive/My Drive/CA684/CA684_Assignment/Test-set/C3D_test/video7498.txt']\n",
            "Loading C3D\n",
            "done\n",
            "Feature Path:\n",
            "['/content/drive/My Drive/CA684/CA684_Assignment/Test-set/HMP_test/video7494.txt', '/content/drive/My Drive/CA684/CA684_Assignment/Test-set/HMP_test/video7495.txt', '/content/drive/My Drive/CA684/CA684_Assignment/Test-set/HMP_test/video7496.txt', '/content/drive/My Drive/CA684/CA684_Assignment/Test-set/HMP_test/video7497.txt', '/content/drive/My Drive/CA684/CA684_Assignment/Test-set/HMP_test/video7498.txt']\n",
            "Loading HMP\n",
            "done\n"
          ],
          "name": "stdout"
        }
      ]
    },
    {
      "cell_type": "code",
      "metadata": {
        "colab": {
          "base_uri": "https://localhost:8080/"
        },
        "id": "PhYy3RrKnTNo",
        "outputId": "fc503e38-75ae-44e3-cd5c-8ca4af816e05"
      },
      "source": [
        "print(len(f1_test),len(f2_test))"
      ],
      "execution_count": null,
      "outputs": [
        {
          "output_type": "stream",
          "text": [
            "2000 2000\n"
          ],
          "name": "stdout"
        }
      ]
    },
    {
      "cell_type": "code",
      "metadata": {
        "id": "b60qPaownVfy"
      },
      "source": [
        "#Short term and long term memorability score \n",
        "Y_test = labels_test[['short-term_memorability','long-term_memorability']].values\n",
        "X_test = np.concatenate((f1_test,f2_test), axis=1)\n",
        "X_train = np.concatenate((feature1,feature2), axis=1)\n",
        "Y_train = labels[['short-term_memorability','long-term_memorability']].values"
      ],
      "execution_count": null,
      "outputs": []
    },
    {
      "cell_type": "markdown",
      "metadata": {
        "id": "y8Mo9xIC0hZH"
      },
      "source": [
        "**Build and run the model**"
      ]
    },
    {
      "cell_type": "code",
      "metadata": {
        "colab": {
          "base_uri": "https://localhost:8080/"
        },
        "id": "FlYI4_LKnuL7",
        "outputId": "8a2ba41b-2f33-4616-d045-9b4088b9ece6"
      },
      "source": [
        "# adding dropout and regularizers\n",
        "model = Sequential()\n",
        "model.add(layers.Dense(30,activation='selu',kernel_regularizer=regularizers.l2(0.00001)))\n",
        "model.add(layers.Dropout(0.3))\n",
        "model.add(layers.Dense(25,activation='selu',kernel_regularizer=regularizers.l2(0.00001)))\n",
        "model.add(layers.Dropout(0.7))\n",
        "model.add(layers.Dense(2,activation='selu'))\n",
        "\n",
        "# compiling the model \n",
        "opt = optimizers.RMSprop(lr=0.0009, rho=0.89, decay=0.0)\n",
        "model.compile(optimizer=opt,loss='mse',metrics=['accuracy'])\n",
        "\n",
        "history = model.fit(X_train,Y_train,epochs=22,validation_data=(X_test,Y_test))"
      ],
      "execution_count": null,
      "outputs": [
        {
          "output_type": "stream",
          "text": [
            "Epoch 1/22\n",
            "188/188 [==============================] - 2s 7ms/step - loss: 0.2058 - accuracy: 0.5282 - val_loss: nan - val_accuracy: 1.0000\n",
            "Epoch 2/22\n",
            "188/188 [==============================] - 1s 6ms/step - loss: 0.0659 - accuracy: 0.5779 - val_loss: nan - val_accuracy: 1.0000\n",
            "Epoch 3/22\n",
            "188/188 [==============================] - 1s 6ms/step - loss: 0.0395 - accuracy: 0.6399 - val_loss: nan - val_accuracy: 1.0000\n",
            "Epoch 4/22\n",
            "188/188 [==============================] - 1s 6ms/step - loss: 0.0290 - accuracy: 0.6717 - val_loss: nan - val_accuracy: 1.0000\n",
            "Epoch 5/22\n",
            "188/188 [==============================] - 1s 6ms/step - loss: 0.0210 - accuracy: 0.7058 - val_loss: nan - val_accuracy: 1.0000\n",
            "Epoch 6/22\n",
            "188/188 [==============================] - 1s 6ms/step - loss: 0.0172 - accuracy: 0.7120 - val_loss: nan - val_accuracy: 1.0000\n",
            "Epoch 7/22\n",
            "188/188 [==============================] - 1s 6ms/step - loss: 0.0150 - accuracy: 0.6998 - val_loss: nan - val_accuracy: 1.0000\n",
            "Epoch 8/22\n",
            "188/188 [==============================] - 1s 6ms/step - loss: 0.0142 - accuracy: 0.7101 - val_loss: nan - val_accuracy: 1.0000\n",
            "Epoch 9/22\n",
            "188/188 [==============================] - 1s 6ms/step - loss: 0.0140 - accuracy: 0.6991 - val_loss: nan - val_accuracy: 1.0000\n",
            "Epoch 10/22\n",
            "188/188 [==============================] - 1s 6ms/step - loss: 0.0135 - accuracy: 0.6996 - val_loss: nan - val_accuracy: 1.0000\n",
            "Epoch 11/22\n",
            "188/188 [==============================] - 1s 6ms/step - loss: 0.0133 - accuracy: 0.7000 - val_loss: nan - val_accuracy: 1.0000\n",
            "Epoch 12/22\n",
            "188/188 [==============================] - 1s 6ms/step - loss: 0.0136 - accuracy: 0.7086 - val_loss: nan - val_accuracy: 1.0000\n",
            "Epoch 13/22\n",
            "188/188 [==============================] - 1s 6ms/step - loss: 0.0141 - accuracy: 0.7038 - val_loss: nan - val_accuracy: 1.0000\n",
            "Epoch 14/22\n",
            "188/188 [==============================] - 1s 6ms/step - loss: 0.0136 - accuracy: 0.7105 - val_loss: nan - val_accuracy: 1.0000\n",
            "Epoch 15/22\n",
            "188/188 [==============================] - 1s 6ms/step - loss: 0.0136 - accuracy: 0.7011 - val_loss: nan - val_accuracy: 1.0000\n",
            "Epoch 16/22\n",
            "188/188 [==============================] - 1s 6ms/step - loss: 0.0133 - accuracy: 0.7086 - val_loss: nan - val_accuracy: 1.0000\n",
            "Epoch 17/22\n",
            "188/188 [==============================] - 1s 6ms/step - loss: 0.0136 - accuracy: 0.7029 - val_loss: nan - val_accuracy: 1.0000\n",
            "Epoch 18/22\n",
            "188/188 [==============================] - 1s 6ms/step - loss: 0.0136 - accuracy: 0.7106 - val_loss: nan - val_accuracy: 1.0000\n",
            "Epoch 19/22\n",
            "188/188 [==============================] - 1s 6ms/step - loss: 0.0132 - accuracy: 0.6930 - val_loss: nan - val_accuracy: 1.0000\n",
            "Epoch 20/22\n",
            "188/188 [==============================] - 1s 6ms/step - loss: 0.0134 - accuracy: 0.7011 - val_loss: nan - val_accuracy: 1.0000\n",
            "Epoch 21/22\n",
            "188/188 [==============================] - 1s 6ms/step - loss: 0.0133 - accuracy: 0.7049 - val_loss: nan - val_accuracy: 1.0000\n",
            "Epoch 22/22\n",
            "188/188 [==============================] - 1s 6ms/step - loss: 0.0135 - accuracy: 0.7025 - val_loss: nan - val_accuracy: 1.0000\n"
          ],
          "name": "stdout"
        }
      ]
    },
    {
      "cell_type": "code",
      "metadata": {
        "colab": {
          "base_uri": "https://localhost:8080/"
        },
        "id": "5DCh9T4bpHpF",
        "outputId": "b0b11e24-e179-4df2-8feb-cce3eb7c55b1"
      },
      "source": [
        "predictionsNN_test = model.predict(X_test)\n",
        "print(predictionsNN_test.shape)"
      ],
      "execution_count": null,
      "outputs": [
        {
          "output_type": "stream",
          "text": [
            "(2000, 2)\n"
          ],
          "name": "stdout"
        }
      ]
    },
    {
      "cell_type": "markdown",
      "metadata": {
        "id": "qgAiVizT87QM"
      },
      "source": [
        "**Print the predictions**"
      ]
    },
    {
      "cell_type": "code",
      "metadata": {
        "colab": {
          "base_uri": "https://localhost:8080/"
        },
        "id": "NsNNbV84pWjL",
        "outputId": "4e5e17af-74a5-46fe-fcde-3c73128cc51b"
      },
      "source": [
        "print(predictionsNN_test)"
      ],
      "execution_count": null,
      "outputs": [
        {
          "output_type": "stream",
          "text": [
            "[[0.87247455 0.7910394 ]\n",
            " [0.8395027  0.76593286]\n",
            " [0.8852565  0.8000093 ]\n",
            " ...\n",
            " [0.89026564 0.80434436]\n",
            " [0.845789   0.77262765]\n",
            " [0.89969134 0.81251556]]\n"
          ],
          "name": "stdout"
        }
      ]
    },
    {
      "cell_type": "markdown",
      "metadata": {
        "id": "J2qS1LOO5TcO"
      },
      "source": [
        "**Save the predictions**"
      ]
    },
    {
      "cell_type": "code",
      "metadata": {
        "id": "gY6pOPk0yeU8"
      },
      "source": [
        "import pandas as pd\n",
        "prediction = pd.DataFrame({'video': natsorted(labels_test['video']),\n",
        "                    'short-term_memorability': [row[0] for row in predictionsNN_test],\n",
        "                    'long-term_memorability':[row[1] for row in predictionsNN_test]\n",
        "                        })"
      ],
      "execution_count": null,
      "outputs": []
    },
    {
      "cell_type": "code",
      "metadata": {
        "colab": {
          "base_uri": "https://localhost:8080/",
          "height": 202
        },
        "id": "F4bOtWgp53lH",
        "outputId": "7ccaae2e-1f29-4063-ebbb-20ee0d5dcf5c"
      },
      "source": [
        "prediction.head()"
      ],
      "execution_count": null,
      "outputs": [
        {
          "output_type": "execute_result",
          "data": {
            "text/html": [
              "<div>\n",
              "<style scoped>\n",
              "    .dataframe tbody tr th:only-of-type {\n",
              "        vertical-align: middle;\n",
              "    }\n",
              "\n",
              "    .dataframe tbody tr th {\n",
              "        vertical-align: top;\n",
              "    }\n",
              "\n",
              "    .dataframe thead th {\n",
              "        text-align: right;\n",
              "    }\n",
              "</style>\n",
              "<table border=\"1\" class=\"dataframe\">\n",
              "  <thead>\n",
              "    <tr style=\"text-align: right;\">\n",
              "      <th></th>\n",
              "      <th>video</th>\n",
              "      <th>short-term_memorability</th>\n",
              "      <th>long-term_memorability</th>\n",
              "    </tr>\n",
              "  </thead>\n",
              "  <tbody>\n",
              "    <tr>\n",
              "      <th>0</th>\n",
              "      <td>7494</td>\n",
              "      <td>0.872475</td>\n",
              "      <td>0.791039</td>\n",
              "    </tr>\n",
              "    <tr>\n",
              "      <th>1</th>\n",
              "      <td>7495</td>\n",
              "      <td>0.839503</td>\n",
              "      <td>0.765933</td>\n",
              "    </tr>\n",
              "    <tr>\n",
              "      <th>2</th>\n",
              "      <td>7496</td>\n",
              "      <td>0.885257</td>\n",
              "      <td>0.800009</td>\n",
              "    </tr>\n",
              "    <tr>\n",
              "      <th>3</th>\n",
              "      <td>7497</td>\n",
              "      <td>0.859811</td>\n",
              "      <td>0.781256</td>\n",
              "    </tr>\n",
              "    <tr>\n",
              "      <th>4</th>\n",
              "      <td>7498</td>\n",
              "      <td>0.865513</td>\n",
              "      <td>0.785755</td>\n",
              "    </tr>\n",
              "  </tbody>\n",
              "</table>\n",
              "</div>"
            ],
            "text/plain": [
              "   video  short-term_memorability  long-term_memorability\n",
              "0   7494                 0.872475                0.791039\n",
              "1   7495                 0.839503                0.765933\n",
              "2   7496                 0.885257                0.800009\n",
              "3   7497                 0.859811                0.781256\n",
              "4   7498                 0.865513                0.785755"
            ]
          },
          "metadata": {
            "tags": []
          },
          "execution_count": 202
        }
      ]
    },
    {
      "cell_type": "code",
      "metadata": {
        "id": "FaQGWoaC6H4X"
      },
      "source": [
        "prediction.to_csv('./Soumi_Mitra_20210300_predictions.csv')"
      ],
      "execution_count": null,
      "outputs": []
    },
    {
      "cell_type": "markdown",
      "metadata": {
        "id": "prtemWSK5WxV"
      },
      "source": [
        "**Save the model**"
      ]
    },
    {
      "cell_type": "code",
      "metadata": {
        "id": "IljDT_mO5O9R"
      },
      "source": [
        "model.save('./final_model_memory.h5')"
      ],
      "execution_count": null,
      "outputs": []
    }
  ]
}